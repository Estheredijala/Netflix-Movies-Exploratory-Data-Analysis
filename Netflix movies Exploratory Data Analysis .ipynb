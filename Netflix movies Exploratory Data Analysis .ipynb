{
 "cells": [
  {
   "cell_type": "markdown",
   "id": "93689410",
   "metadata": {
    "id": "93689410"
   },
   "source": [
    "## Movies Analysis"
   ]
  },
  {
   "cell_type": "markdown",
   "id": "f01b662f",
   "metadata": {
    "id": "f01b662f"
   },
   "source": [
    "In this project, we're going to analyze a dataset from kaggle. The dataset from [kaggle](https://www.kaggle.com/datasets/bharatnatrayn/movies-dataset-for-feature-extraction-prediction) contains informations about some netflix movies and tvshows scrapped from imdb."
   ]
  },
  {
   "cell_type": "markdown",
   "id": "029b4baa",
   "metadata": {
    "id": "029b4baa"
   },
   "source": [
    "### Project Goal:\n",
    "Our goal as Data Analysts is to answer these questions:\n",
    "\n",
    "- Which movies are the top and least rated?\n",
    "- Which genres has the most rating?\n",
    "- Which movies grossed the most?\n",
    "- Which movies were rated the most in 2020?\n",
    "- Which movies had the most votes?\n",
    "\n",
    "This project will use the following six steps of the data analysis process to answer the above two questions of the project goal:\n",
    "\n",
    "1. Get Data\n",
    "2. Explore Data\n",
    "3. Clean Data\n",
    "4. Analyze Data\n",
    "5. Conclusion"
   ]
  },
  {
   "cell_type": "markdown",
   "id": "a5817e0a",
   "metadata": {
    "id": "a5817e0a"
   },
   "source": [
    "### 1. Get Data"
   ]
  },
  {
   "cell_type": "code",
   "execution_count": 1,
   "id": "45bb42e0",
   "metadata": {
    "id": "45bb42e0"
   },
   "outputs": [],
   "source": [
    "#import the neeeded libraries\n",
    "import pandas as pd\n",
    "import numpy as np\n",
    "import matplotlib.pyplot as plt\n",
    "import seaborn as sns"
   ]
  },
  {
   "cell_type": "code",
   "execution_count": 2,
   "id": "6fb32c7e",
   "metadata": {
    "colab": {
     "base_uri": "https://localhost:8080/",
     "height": 355
    },
    "id": "6fb32c7e",
    "outputId": "35e0ff33-71a6-450b-ce6b-494bee3ec48c"
   },
   "outputs": [
    {
     "data": {
      "text/html": [
       "<div>\n",
       "<style scoped>\n",
       "    .dataframe tbody tr th:only-of-type {\n",
       "        vertical-align: middle;\n",
       "    }\n",
       "\n",
       "    .dataframe tbody tr th {\n",
       "        vertical-align: top;\n",
       "    }\n",
       "\n",
       "    .dataframe thead th {\n",
       "        text-align: right;\n",
       "    }\n",
       "</style>\n",
       "<table border=\"1\" class=\"dataframe\">\n",
       "  <thead>\n",
       "    <tr style=\"text-align: right;\">\n",
       "      <th></th>\n",
       "      <th>MOVIES</th>\n",
       "      <th>YEAR</th>\n",
       "      <th>GENRE</th>\n",
       "      <th>RATING</th>\n",
       "      <th>ONE-LINE</th>\n",
       "      <th>STARS</th>\n",
       "      <th>VOTES</th>\n",
       "      <th>RunTime</th>\n",
       "      <th>Gross</th>\n",
       "    </tr>\n",
       "  </thead>\n",
       "  <tbody>\n",
       "    <tr>\n",
       "      <th>0</th>\n",
       "      <td>Blood Red Sky</td>\n",
       "      <td>(2021)</td>\n",
       "      <td>\\nAction, Horror, Thriller</td>\n",
       "      <td>6.1</td>\n",
       "      <td>\\nA woman with a mysterious illness is forced ...</td>\n",
       "      <td>\\n    Director:\\nPeter Thorwarth\\n| \\n    Star...</td>\n",
       "      <td>21,062</td>\n",
       "      <td>121.0</td>\n",
       "      <td>NaN</td>\n",
       "    </tr>\n",
       "    <tr>\n",
       "      <th>1</th>\n",
       "      <td>Masters of the Universe: Revelation</td>\n",
       "      <td>(2021– )</td>\n",
       "      <td>\\nAnimation, Action, Adventure</td>\n",
       "      <td>5.0</td>\n",
       "      <td>\\nThe war for Eternia begins again in what may...</td>\n",
       "      <td>\\n            \\n    Stars:\\nChris Wood, \\nSara...</td>\n",
       "      <td>17,870</td>\n",
       "      <td>25.0</td>\n",
       "      <td>NaN</td>\n",
       "    </tr>\n",
       "    <tr>\n",
       "      <th>2</th>\n",
       "      <td>The Walking Dead</td>\n",
       "      <td>(2010–2022)</td>\n",
       "      <td>\\nDrama, Horror, Thriller</td>\n",
       "      <td>8.2</td>\n",
       "      <td>\\nSheriff Deputy Rick Grimes wakes up from a c...</td>\n",
       "      <td>\\n            \\n    Stars:\\nAndrew Lincoln, \\n...</td>\n",
       "      <td>885,805</td>\n",
       "      <td>44.0</td>\n",
       "      <td>NaN</td>\n",
       "    </tr>\n",
       "    <tr>\n",
       "      <th>3</th>\n",
       "      <td>Rick and Morty</td>\n",
       "      <td>(2013– )</td>\n",
       "      <td>\\nAnimation, Adventure, Comedy</td>\n",
       "      <td>9.2</td>\n",
       "      <td>\\nAn animated series that follows the exploits...</td>\n",
       "      <td>\\n            \\n    Stars:\\nJustin Roiland, \\n...</td>\n",
       "      <td>414,849</td>\n",
       "      <td>23.0</td>\n",
       "      <td>NaN</td>\n",
       "    </tr>\n",
       "    <tr>\n",
       "      <th>4</th>\n",
       "      <td>Army of Thieves</td>\n",
       "      <td>(2021)</td>\n",
       "      <td>\\nAction, Crime, Horror</td>\n",
       "      <td>NaN</td>\n",
       "      <td>\\nA prequel, set before the events of Army of ...</td>\n",
       "      <td>\\n    Director:\\nMatthias Schweighöfer\\n| \\n  ...</td>\n",
       "      <td>NaN</td>\n",
       "      <td>NaN</td>\n",
       "      <td>NaN</td>\n",
       "    </tr>\n",
       "  </tbody>\n",
       "</table>\n",
       "</div>"
      ],
      "text/plain": [
       "                                MOVIES         YEAR  \\\n",
       "0                        Blood Red Sky       (2021)   \n",
       "1  Masters of the Universe: Revelation     (2021– )   \n",
       "2                     The Walking Dead  (2010–2022)   \n",
       "3                       Rick and Morty     (2013– )   \n",
       "4                      Army of Thieves       (2021)   \n",
       "\n",
       "                                        GENRE  RATING  \\\n",
       "0      \\nAction, Horror, Thriller                 6.1   \n",
       "1  \\nAnimation, Action, Adventure                 5.0   \n",
       "2       \\nDrama, Horror, Thriller                 8.2   \n",
       "3  \\nAnimation, Adventure, Comedy                 9.2   \n",
       "4         \\nAction, Crime, Horror                 NaN   \n",
       "\n",
       "                                            ONE-LINE  \\\n",
       "0  \\nA woman with a mysterious illness is forced ...   \n",
       "1  \\nThe war for Eternia begins again in what may...   \n",
       "2  \\nSheriff Deputy Rick Grimes wakes up from a c...   \n",
       "3  \\nAn animated series that follows the exploits...   \n",
       "4  \\nA prequel, set before the events of Army of ...   \n",
       "\n",
       "                                               STARS    VOTES  RunTime Gross  \n",
       "0  \\n    Director:\\nPeter Thorwarth\\n| \\n    Star...   21,062    121.0   NaN  \n",
       "1  \\n            \\n    Stars:\\nChris Wood, \\nSara...   17,870     25.0   NaN  \n",
       "2  \\n            \\n    Stars:\\nAndrew Lincoln, \\n...  885,805     44.0   NaN  \n",
       "3  \\n            \\n    Stars:\\nJustin Roiland, \\n...  414,849     23.0   NaN  \n",
       "4  \\n    Director:\\nMatthias Schweighöfer\\n| \\n  ...      NaN      NaN   NaN  "
      ]
     },
     "execution_count": 2,
     "metadata": {},
     "output_type": "execute_result"
    }
   ],
   "source": [
    "movie = pd.read_csv('movies 1.csv')\n",
    "movie .head()"
   ]
  },
  {
   "cell_type": "markdown",
   "id": "c54f6223",
   "metadata": {
    "id": "c54f6223"
   },
   "source": [
    "Below is the Data Dictionary\n",
    "\n",
    "- Movie: The name of the movie\n",
    "- Year: The year of movie or TV telecast for audience\n",
    "- Genre: The genres of the movie\n",
    "- Rating: The audience thought about the movie or TV show given\n",
    "- One-line: Short description about movies or TV show for audience first impression.\n",
    "- Stars: The casting of art\n",
    "- Votes: The votes by the audience\n",
    "- Runtime: the duration of the movie\n",
    "- Gross: Total amount earned for the movie"
   ]
  },
  {
   "cell_type": "markdown",
   "id": "7a0a1a50",
   "metadata": {
    "id": "7a0a1a50"
   },
   "source": [
    "### 2. Explore the data"
   ]
  },
  {
   "cell_type": "code",
   "execution_count": 3,
   "id": "aaf2e77a",
   "metadata": {
    "id": "aaf2e77a"
   },
   "outputs": [
    {
     "name": "stdout",
     "output_type": "stream",
     "text": [
      "<class 'pandas.core.frame.DataFrame'>\n",
      "RangeIndex: 9999 entries, 0 to 9998\n",
      "Data columns (total 9 columns):\n",
      " #   Column    Non-Null Count  Dtype  \n",
      "---  ------    --------------  -----  \n",
      " 0   MOVIES    9999 non-null   object \n",
      " 1   YEAR      9355 non-null   object \n",
      " 2   GENRE     9919 non-null   object \n",
      " 3   RATING    8179 non-null   float64\n",
      " 4   ONE-LINE  9999 non-null   object \n",
      " 5   STARS     9999 non-null   object \n",
      " 6   VOTES     8179 non-null   object \n",
      " 7   RunTime   7041 non-null   float64\n",
      " 8   Gross     460 non-null    object \n",
      "dtypes: float64(2), object(7)\n",
      "memory usage: 703.2+ KB\n"
     ]
    }
   ],
   "source": [
    "movie.info()"
   ]
  },
  {
   "cell_type": "code",
   "execution_count": 4,
   "id": "6769fa14",
   "metadata": {
    "colab": {
     "base_uri": "https://localhost:8080/",
     "height": 210
    },
    "id": "6769fa14",
    "outputId": "4b4af119-680a-41e4-f4d2-0836a77c1ada"
   },
   "outputs": [
    {
     "data": {
      "text/html": [
       "<div>\n",
       "<style scoped>\n",
       "    .dataframe tbody tr th:only-of-type {\n",
       "        vertical-align: middle;\n",
       "    }\n",
       "\n",
       "    .dataframe tbody tr th {\n",
       "        vertical-align: top;\n",
       "    }\n",
       "\n",
       "    .dataframe thead th {\n",
       "        text-align: right;\n",
       "    }\n",
       "</style>\n",
       "<table border=\"1\" class=\"dataframe\">\n",
       "  <thead>\n",
       "    <tr style=\"text-align: right;\">\n",
       "      <th></th>\n",
       "      <th>movies</th>\n",
       "      <th>year</th>\n",
       "      <th>genre</th>\n",
       "      <th>rating</th>\n",
       "      <th>one-line</th>\n",
       "      <th>stars</th>\n",
       "      <th>votes</th>\n",
       "      <th>runtime</th>\n",
       "      <th>gross</th>\n",
       "    </tr>\n",
       "  </thead>\n",
       "  <tbody>\n",
       "    <tr>\n",
       "      <th>0</th>\n",
       "      <td>Blood Red Sky</td>\n",
       "      <td>(2021)</td>\n",
       "      <td>\\nAction, Horror, Thriller</td>\n",
       "      <td>6.1</td>\n",
       "      <td>\\nA woman with a mysterious illness is forced ...</td>\n",
       "      <td>\\n    Director:\\nPeter Thorwarth\\n| \\n    Star...</td>\n",
       "      <td>21,062</td>\n",
       "      <td>121.0</td>\n",
       "      <td>NaN</td>\n",
       "    </tr>\n",
       "    <tr>\n",
       "      <th>1</th>\n",
       "      <td>Masters of the Universe: Revelation</td>\n",
       "      <td>(2021– )</td>\n",
       "      <td>\\nAnimation, Action, Adventure</td>\n",
       "      <td>5.0</td>\n",
       "      <td>\\nThe war for Eternia begins again in what may...</td>\n",
       "      <td>\\n            \\n    Stars:\\nChris Wood, \\nSara...</td>\n",
       "      <td>17,870</td>\n",
       "      <td>25.0</td>\n",
       "      <td>NaN</td>\n",
       "    </tr>\n",
       "    <tr>\n",
       "      <th>2</th>\n",
       "      <td>The Walking Dead</td>\n",
       "      <td>(2010–2022)</td>\n",
       "      <td>\\nDrama, Horror, Thriller</td>\n",
       "      <td>8.2</td>\n",
       "      <td>\\nSheriff Deputy Rick Grimes wakes up from a c...</td>\n",
       "      <td>\\n            \\n    Stars:\\nAndrew Lincoln, \\n...</td>\n",
       "      <td>885,805</td>\n",
       "      <td>44.0</td>\n",
       "      <td>NaN</td>\n",
       "    </tr>\n",
       "    <tr>\n",
       "      <th>3</th>\n",
       "      <td>Rick and Morty</td>\n",
       "      <td>(2013– )</td>\n",
       "      <td>\\nAnimation, Adventure, Comedy</td>\n",
       "      <td>9.2</td>\n",
       "      <td>\\nAn animated series that follows the exploits...</td>\n",
       "      <td>\\n            \\n    Stars:\\nJustin Roiland, \\n...</td>\n",
       "      <td>414,849</td>\n",
       "      <td>23.0</td>\n",
       "      <td>NaN</td>\n",
       "    </tr>\n",
       "    <tr>\n",
       "      <th>4</th>\n",
       "      <td>Army of Thieves</td>\n",
       "      <td>(2021)</td>\n",
       "      <td>\\nAction, Crime, Horror</td>\n",
       "      <td>NaN</td>\n",
       "      <td>\\nA prequel, set before the events of Army of ...</td>\n",
       "      <td>\\n    Director:\\nMatthias Schweighöfer\\n| \\n  ...</td>\n",
       "      <td>NaN</td>\n",
       "      <td>NaN</td>\n",
       "      <td>NaN</td>\n",
       "    </tr>\n",
       "  </tbody>\n",
       "</table>\n",
       "</div>"
      ],
      "text/plain": [
       "                                movies         year  \\\n",
       "0                        Blood Red Sky       (2021)   \n",
       "1  Masters of the Universe: Revelation     (2021– )   \n",
       "2                     The Walking Dead  (2010–2022)   \n",
       "3                       Rick and Morty     (2013– )   \n",
       "4                      Army of Thieves       (2021)   \n",
       "\n",
       "                                        genre  rating  \\\n",
       "0      \\nAction, Horror, Thriller                 6.1   \n",
       "1  \\nAnimation, Action, Adventure                 5.0   \n",
       "2       \\nDrama, Horror, Thriller                 8.2   \n",
       "3  \\nAnimation, Adventure, Comedy                 9.2   \n",
       "4         \\nAction, Crime, Horror                 NaN   \n",
       "\n",
       "                                            one-line  \\\n",
       "0  \\nA woman with a mysterious illness is forced ...   \n",
       "1  \\nThe war for Eternia begins again in what may...   \n",
       "2  \\nSheriff Deputy Rick Grimes wakes up from a c...   \n",
       "3  \\nAn animated series that follows the exploits...   \n",
       "4  \\nA prequel, set before the events of Army of ...   \n",
       "\n",
       "                                               stars    votes  runtime gross  \n",
       "0  \\n    Director:\\nPeter Thorwarth\\n| \\n    Star...   21,062    121.0   NaN  \n",
       "1  \\n            \\n    Stars:\\nChris Wood, \\nSara...   17,870     25.0   NaN  \n",
       "2  \\n            \\n    Stars:\\nAndrew Lincoln, \\n...  885,805     44.0   NaN  \n",
       "3  \\n            \\n    Stars:\\nJustin Roiland, \\n...  414,849     23.0   NaN  \n",
       "4  \\n    Director:\\nMatthias Schweighöfer\\n| \\n  ...      NaN      NaN   NaN  "
      ]
     },
     "execution_count": 4,
     "metadata": {},
     "output_type": "execute_result"
    }
   ],
   "source": [
    "#modify the columns to lowercase\n",
    "movie = movie.rename(columns=str.lower)\n",
    "movie.head()"
   ]
  },
  {
   "cell_type": "code",
   "execution_count": 5,
   "id": "fe6a7ab7",
   "metadata": {
    "id": "fe6a7ab7"
   },
   "outputs": [
    {
     "data": {
      "text/html": [
       "<div>\n",
       "<style scoped>\n",
       "    .dataframe tbody tr th:only-of-type {\n",
       "        vertical-align: middle;\n",
       "    }\n",
       "\n",
       "    .dataframe tbody tr th {\n",
       "        vertical-align: top;\n",
       "    }\n",
       "\n",
       "    .dataframe thead th {\n",
       "        text-align: right;\n",
       "    }\n",
       "</style>\n",
       "<table border=\"1\" class=\"dataframe\">\n",
       "  <thead>\n",
       "    <tr style=\"text-align: right;\">\n",
       "      <th></th>\n",
       "      <th>rating</th>\n",
       "      <th>runtime</th>\n",
       "    </tr>\n",
       "  </thead>\n",
       "  <tbody>\n",
       "    <tr>\n",
       "      <th>count</th>\n",
       "      <td>8179.000000</td>\n",
       "      <td>7041.000000</td>\n",
       "    </tr>\n",
       "    <tr>\n",
       "      <th>mean</th>\n",
       "      <td>6.921176</td>\n",
       "      <td>68.688539</td>\n",
       "    </tr>\n",
       "    <tr>\n",
       "      <th>std</th>\n",
       "      <td>1.220232</td>\n",
       "      <td>47.258056</td>\n",
       "    </tr>\n",
       "    <tr>\n",
       "      <th>min</th>\n",
       "      <td>1.100000</td>\n",
       "      <td>1.000000</td>\n",
       "    </tr>\n",
       "    <tr>\n",
       "      <th>25%</th>\n",
       "      <td>6.200000</td>\n",
       "      <td>36.000000</td>\n",
       "    </tr>\n",
       "    <tr>\n",
       "      <th>50%</th>\n",
       "      <td>7.100000</td>\n",
       "      <td>60.000000</td>\n",
       "    </tr>\n",
       "    <tr>\n",
       "      <th>75%</th>\n",
       "      <td>7.800000</td>\n",
       "      <td>95.000000</td>\n",
       "    </tr>\n",
       "    <tr>\n",
       "      <th>max</th>\n",
       "      <td>9.900000</td>\n",
       "      <td>853.000000</td>\n",
       "    </tr>\n",
       "  </tbody>\n",
       "</table>\n",
       "</div>"
      ],
      "text/plain": [
       "            rating      runtime\n",
       "count  8179.000000  7041.000000\n",
       "mean      6.921176    68.688539\n",
       "std       1.220232    47.258056\n",
       "min       1.100000     1.000000\n",
       "25%       6.200000    36.000000\n",
       "50%       7.100000    60.000000\n",
       "75%       7.800000    95.000000\n",
       "max       9.900000   853.000000"
      ]
     },
     "execution_count": 5,
     "metadata": {},
     "output_type": "execute_result"
    }
   ],
   "source": [
    "#explore the numerical columns of the dataset\n",
    "movie.describe()"
   ]
  },
  {
   "cell_type": "code",
   "execution_count": 6,
   "id": "677295a2",
   "metadata": {
    "id": "677295a2"
   },
   "outputs": [
    {
     "name": "stdout",
     "output_type": "stream",
     "text": [
      "0       False\n",
      "1       False\n",
      "2       False\n",
      "3       False\n",
      "4       False\n",
      "        ...  \n",
      "9994     True\n",
      "9995    False\n",
      "9996    False\n",
      "9997     True\n",
      "9998     True\n",
      "Length: 9999, dtype: bool\n"
     ]
    },
    {
     "data": {
      "text/plain": [
       "431"
      ]
     },
     "execution_count": 6,
     "metadata": {},
     "output_type": "execute_result"
    }
   ],
   "source": [
    "#check for duplicate rows\n",
    "duplicate_rows = movie.duplicated(subset = ['movies'])\n",
    "print(duplicate_rows)\n",
    "\n",
    "movie.duplicated().sum()"
   ]
  },
  {
   "cell_type": "markdown",
   "id": "e291e546",
   "metadata": {
    "id": "e291e546"
   },
   "source": [
    "Upon exploration, we discovered that the dataset has several null values and also 431 duplicates. Some column entries has special characters too. Also, some columns have the wrong datatype. Next step will be to clean the data inorder to make our analysis smooth."
   ]
  },
  {
   "cell_type": "markdown",
   "id": "ab7df44f",
   "metadata": {
    "id": "ab7df44f"
   },
   "source": [
    "### 3. Clean the Data"
   ]
  },
  {
   "cell_type": "code",
   "execution_count": 7,
   "id": "403aa017",
   "metadata": {
    "id": "403aa017"
   },
   "outputs": [
    {
     "data": {
      "text/plain": [
       "(9568, 9)"
      ]
     },
     "execution_count": 7,
     "metadata": {},
     "output_type": "execute_result"
    }
   ],
   "source": [
    "#drop the duplicate rows\n",
    "movie = movie.drop_duplicates()\n",
    "\n",
    "#print the shape of the dataset to confirm the operation\n",
    "movie.shape"
   ]
  },
  {
   "cell_type": "markdown",
   "id": "c55cc6ee",
   "metadata": {
    "id": "c55cc6ee"
   },
   "source": [
    "After confirming that the duplicates were dropped, the next line of action is to start cleaning up the columns inorder to perform analysis."
   ]
  },
  {
   "cell_type": "code",
   "execution_count": 8,
   "id": "00e8275e",
   "metadata": {
    "id": "00e8275e"
   },
   "outputs": [
    {
     "data": {
      "text/plain": [
       "0            2021\n",
       "1            2021\n",
       "2       2010–2022\n",
       "3            2013\n",
       "4            2021\n",
       "          ...    \n",
       "9993         2022\n",
       "9995         2021\n",
       "9996         2022\n",
       "9997         2021\n",
       "9998         2021\n",
       "Name: year, Length: 9568, dtype: object"
      ]
     },
     "execution_count": 8,
     "metadata": {},
     "output_type": "execute_result"
    }
   ],
   "source": [
    "#clean the year column by removing unwanted characters\n",
    "movie[\"year\"] = movie[\"year\"].str.replace('(', '')\n",
    "movie[\"year\"] = movie[\"year\"].str.replace(')', '')\n",
    "movie[\"year\"] = movie[\"year\"].str.replace('– ', '')\n",
    "movie['year']"
   ]
  },
  {
   "cell_type": "code",
   "execution_count": 9,
   "id": "4b191488",
   "metadata": {
    "id": "4b191488",
    "scrolled": true
   },
   "outputs": [
    {
     "data": {
      "text/html": [
       "<div>\n",
       "<style scoped>\n",
       "    .dataframe tbody tr th:only-of-type {\n",
       "        vertical-align: middle;\n",
       "    }\n",
       "\n",
       "    .dataframe tbody tr th {\n",
       "        vertical-align: top;\n",
       "    }\n",
       "\n",
       "    .dataframe thead th {\n",
       "        text-align: right;\n",
       "    }\n",
       "</style>\n",
       "<table border=\"1\" class=\"dataframe\">\n",
       "  <thead>\n",
       "    <tr style=\"text-align: right;\">\n",
       "      <th></th>\n",
       "      <th>movies</th>\n",
       "      <th>year</th>\n",
       "      <th>genre</th>\n",
       "      <th>rating</th>\n",
       "      <th>one-line</th>\n",
       "      <th>stars</th>\n",
       "      <th>votes</th>\n",
       "      <th>runtime</th>\n",
       "      <th>gross</th>\n",
       "    </tr>\n",
       "  </thead>\n",
       "  <tbody>\n",
       "    <tr>\n",
       "      <th>0</th>\n",
       "      <td>Blood Red Sky</td>\n",
       "      <td>2021</td>\n",
       "      <td>Action, Horror, Thriller</td>\n",
       "      <td>6.1</td>\n",
       "      <td>A woman with a mysterious illness is forced in...</td>\n",
       "      <td>Director:Peter Thorwarth|     Stars:Peri B...</td>\n",
       "      <td>21,062</td>\n",
       "      <td>121.0</td>\n",
       "      <td>NaN</td>\n",
       "    </tr>\n",
       "    <tr>\n",
       "      <th>1</th>\n",
       "      <td>Masters of the Universe: Revelation</td>\n",
       "      <td>2021</td>\n",
       "      <td>Animation, Action, Adventure</td>\n",
       "      <td>5.0</td>\n",
       "      <td>The war for Eternia begins again in what may b...</td>\n",
       "      <td>Stars:Chris Wood, Sarah Michel...</td>\n",
       "      <td>17,870</td>\n",
       "      <td>25.0</td>\n",
       "      <td>NaN</td>\n",
       "    </tr>\n",
       "    <tr>\n",
       "      <th>2</th>\n",
       "      <td>The Walking Dead</td>\n",
       "      <td>2010–2022</td>\n",
       "      <td>Drama, Horror, Thriller</td>\n",
       "      <td>8.2</td>\n",
       "      <td>Sheriff Deputy Rick Grimes wakes up from a com...</td>\n",
       "      <td>Stars:Andrew Lincoln, Norman R...</td>\n",
       "      <td>885,805</td>\n",
       "      <td>44.0</td>\n",
       "      <td>NaN</td>\n",
       "    </tr>\n",
       "    <tr>\n",
       "      <th>3</th>\n",
       "      <td>Rick and Morty</td>\n",
       "      <td>2013</td>\n",
       "      <td>Animation, Adventure, Comedy</td>\n",
       "      <td>9.2</td>\n",
       "      <td>An animated series that follows the exploits o...</td>\n",
       "      <td>Stars:Justin Roiland, Chris Pa...</td>\n",
       "      <td>414,849</td>\n",
       "      <td>23.0</td>\n",
       "      <td>NaN</td>\n",
       "    </tr>\n",
       "    <tr>\n",
       "      <th>4</th>\n",
       "      <td>Army of Thieves</td>\n",
       "      <td>2021</td>\n",
       "      <td>Action, Crime, Horror</td>\n",
       "      <td>NaN</td>\n",
       "      <td>A prequel, set before the events of Army of th...</td>\n",
       "      <td>Director:Matthias Schweighöfer|     Stars:...</td>\n",
       "      <td>NaN</td>\n",
       "      <td>NaN</td>\n",
       "      <td>NaN</td>\n",
       "    </tr>\n",
       "  </tbody>\n",
       "</table>\n",
       "</div>"
      ],
      "text/plain": [
       "                                movies       year  \\\n",
       "0                        Blood Red Sky       2021   \n",
       "1  Masters of the Universe: Revelation       2021   \n",
       "2                     The Walking Dead  2010–2022   \n",
       "3                       Rick and Morty       2013   \n",
       "4                      Army of Thieves       2021   \n",
       "\n",
       "                                      genre  rating  \\\n",
       "0      Action, Horror, Thriller                 6.1   \n",
       "1  Animation, Action, Adventure                 5.0   \n",
       "2       Drama, Horror, Thriller                 8.2   \n",
       "3  Animation, Adventure, Comedy                 9.2   \n",
       "4         Action, Crime, Horror                 NaN   \n",
       "\n",
       "                                            one-line  \\\n",
       "0  A woman with a mysterious illness is forced in...   \n",
       "1  The war for Eternia begins again in what may b...   \n",
       "2  Sheriff Deputy Rick Grimes wakes up from a com...   \n",
       "3  An animated series that follows the exploits o...   \n",
       "4  A prequel, set before the events of Army of th...   \n",
       "\n",
       "                                               stars    votes  runtime gross  \n",
       "0      Director:Peter Thorwarth|     Stars:Peri B...   21,062    121.0   NaN  \n",
       "1                  Stars:Chris Wood, Sarah Michel...   17,870     25.0   NaN  \n",
       "2                  Stars:Andrew Lincoln, Norman R...  885,805     44.0   NaN  \n",
       "3                  Stars:Justin Roiland, Chris Pa...  414,849     23.0   NaN  \n",
       "4      Director:Matthias Schweighöfer|     Stars:...      NaN      NaN   NaN  "
      ]
     },
     "execution_count": 9,
     "metadata": {},
     "output_type": "execute_result"
    }
   ],
   "source": [
    "#remove the special character in the oneline,genre and stars column entries\n",
    "movie[\"genre\"] = movie[\"genre\"].str.replace('\\n', '')\n",
    "movie[\"one-line\"] = movie[\"one-line\"].str.replace('\\n', '')\n",
    "movie[\"stars\"] = movie[\"stars\"].str.replace('\\n', '')\n",
    "movie.head()"
   ]
  },
  {
   "cell_type": "code",
   "execution_count": 10,
   "id": "fb9e9361",
   "metadata": {
    "id": "fb9e9361",
    "scrolled": true
   },
   "outputs": [
    {
     "data": {
      "text/html": [
       "<div>\n",
       "<style scoped>\n",
       "    .dataframe tbody tr th:only-of-type {\n",
       "        vertical-align: middle;\n",
       "    }\n",
       "\n",
       "    .dataframe tbody tr th {\n",
       "        vertical-align: top;\n",
       "    }\n",
       "\n",
       "    .dataframe thead th {\n",
       "        text-align: right;\n",
       "    }\n",
       "</style>\n",
       "<table border=\"1\" class=\"dataframe\">\n",
       "  <thead>\n",
       "    <tr style=\"text-align: right;\">\n",
       "      <th></th>\n",
       "      <th>movies</th>\n",
       "      <th>year</th>\n",
       "      <th>genre</th>\n",
       "      <th>rating</th>\n",
       "      <th>one-line</th>\n",
       "      <th>stars</th>\n",
       "      <th>votes</th>\n",
       "      <th>runtime</th>\n",
       "      <th>gross</th>\n",
       "    </tr>\n",
       "  </thead>\n",
       "  <tbody>\n",
       "    <tr>\n",
       "      <th>0</th>\n",
       "      <td>Blood Red Sky</td>\n",
       "      <td>2021</td>\n",
       "      <td>Action, Horror, Thriller</td>\n",
       "      <td>6.1</td>\n",
       "      <td>A woman with a mysterious illness is forced in...</td>\n",
       "      <td>Director:Peter Thorwarth|     Stars:Peri B...</td>\n",
       "      <td>21,062</td>\n",
       "      <td>121.0</td>\n",
       "      <td>NaN</td>\n",
       "    </tr>\n",
       "    <tr>\n",
       "      <th>1</th>\n",
       "      <td>Masters of the Universe: Revelation</td>\n",
       "      <td>2021</td>\n",
       "      <td>Animation, Action, Adventure</td>\n",
       "      <td>5.0</td>\n",
       "      <td>The war for Eternia begins again in what may b...</td>\n",
       "      <td>Stars:Chris Wood, Sarah Michel...</td>\n",
       "      <td>17,870</td>\n",
       "      <td>25.0</td>\n",
       "      <td>NaN</td>\n",
       "    </tr>\n",
       "    <tr>\n",
       "      <th>2</th>\n",
       "      <td>The Walking Dead</td>\n",
       "      <td>2010–2022</td>\n",
       "      <td>Drama, Horror, Thriller</td>\n",
       "      <td>8.2</td>\n",
       "      <td>Sheriff Deputy Rick Grimes wakes up from a com...</td>\n",
       "      <td>Stars:Andrew Lincoln, Norman R...</td>\n",
       "      <td>885,805</td>\n",
       "      <td>44.0</td>\n",
       "      <td>NaN</td>\n",
       "    </tr>\n",
       "    <tr>\n",
       "      <th>3</th>\n",
       "      <td>Rick and Morty</td>\n",
       "      <td>2013</td>\n",
       "      <td>Animation, Adventure, Comedy</td>\n",
       "      <td>9.2</td>\n",
       "      <td>An animated series that follows the exploits o...</td>\n",
       "      <td>Stars:Justin Roiland, Chris Pa...</td>\n",
       "      <td>414,849</td>\n",
       "      <td>23.0</td>\n",
       "      <td>NaN</td>\n",
       "    </tr>\n",
       "    <tr>\n",
       "      <th>4</th>\n",
       "      <td>Army of Thieves</td>\n",
       "      <td>2021</td>\n",
       "      <td>Action, Crime, Horror</td>\n",
       "      <td>0</td>\n",
       "      <td>A prequel, set before the events of Army of th...</td>\n",
       "      <td>Director:Matthias Schweighöfer|     Stars:...</td>\n",
       "      <td>NaN</td>\n",
       "      <td>NaN</td>\n",
       "      <td>NaN</td>\n",
       "    </tr>\n",
       "  </tbody>\n",
       "</table>\n",
       "</div>"
      ],
      "text/plain": [
       "                                movies       year  \\\n",
       "0                        Blood Red Sky       2021   \n",
       "1  Masters of the Universe: Revelation       2021   \n",
       "2                     The Walking Dead  2010–2022   \n",
       "3                       Rick and Morty       2013   \n",
       "4                      Army of Thieves       2021   \n",
       "\n",
       "                                      genre rating  \\\n",
       "0      Action, Horror, Thriller                6.1   \n",
       "1  Animation, Action, Adventure                5.0   \n",
       "2       Drama, Horror, Thriller                8.2   \n",
       "3  Animation, Adventure, Comedy                9.2   \n",
       "4         Action, Crime, Horror                  0   \n",
       "\n",
       "                                            one-line  \\\n",
       "0  A woman with a mysterious illness is forced in...   \n",
       "1  The war for Eternia begins again in what may b...   \n",
       "2  Sheriff Deputy Rick Grimes wakes up from a com...   \n",
       "3  An animated series that follows the exploits o...   \n",
       "4  A prequel, set before the events of Army of th...   \n",
       "\n",
       "                                               stars    votes  runtime gross  \n",
       "0      Director:Peter Thorwarth|     Stars:Peri B...   21,062    121.0   NaN  \n",
       "1                  Stars:Chris Wood, Sarah Michel...   17,870     25.0   NaN  \n",
       "2                  Stars:Andrew Lincoln, Norman R...  885,805     44.0   NaN  \n",
       "3                  Stars:Justin Roiland, Chris Pa...  414,849     23.0   NaN  \n",
       "4      Director:Matthias Schweighöfer|     Stars:...      NaN      NaN   NaN  "
      ]
     },
     "execution_count": 10,
     "metadata": {},
     "output_type": "execute_result"
    }
   ],
   "source": [
    "#fill the nan values with 0\n",
    "movie['rating'].fillna('0',inplace = True)\n",
    "movie.head()"
   ]
  },
  {
   "cell_type": "code",
   "execution_count": 11,
   "id": "facdfbbe",
   "metadata": {
    "id": "facdfbbe"
   },
   "outputs": [],
   "source": [
    "#clean the votes column\n",
    "movie['votes'] = movie['votes'].str.replace(',', '')\n",
    "movie['votes'].fillna('0',inplace = True)\n",
    "movie['votes'] = movie['votes'].astype(int)"
   ]
  },
  {
   "cell_type": "code",
   "execution_count": 12,
   "id": "6c38f16f",
   "metadata": {
    "id": "6c38f16f"
   },
   "outputs": [],
   "source": [
    "#clean the gross column\n",
    "movie['gross'] = movie['gross'].str.replace('$', '')\n",
    "movie['gross'] = movie['gross'].str.replace('M', '')\n",
    "movie['gross'].fillna('0',inplace = True)\n",
    "movie['gross'] = movie['gross'].astype(float)"
   ]
  },
  {
   "cell_type": "markdown",
   "id": "5714f74a",
   "metadata": {
    "id": "5714f74a"
   },
   "source": [
    "We have succeded in cleaning up most of the columns for our analysis, other cleaning needed will be performed duly. Analysing the data to provide answers to our questions is the next step to take."
   ]
  },
  {
   "cell_type": "markdown",
   "id": "adaf0042",
   "metadata": {
    "id": "adaf0042"
   },
   "source": [
    "### 4. Analyse the Data"
   ]
  },
  {
   "cell_type": "code",
   "execution_count": 13,
   "id": "ae2d31c9",
   "metadata": {
    "id": "ae2d31c9"
   },
   "outputs": [
    {
     "data": {
      "text/plain": [
       "7640                BoJack Horseman\n",
       "8510     Avatar: The Last Airbender\n",
       "8509     Avatar: The Last Airbender\n",
       "9892                         Dexter\n",
       "8767                           Dark\n",
       "Name: movies, dtype: object"
      ]
     },
     "execution_count": 13,
     "metadata": {},
     "output_type": "execute_result"
    }
   ],
   "source": [
    "#sort the values for top 5 most rated movie\n",
    "movie['rating'] = pd.to_numeric(movie['rating'],errors = 'coerce')\n",
    "sorted_movie = movie.sort_values(by = 'rating',ascending = False)\n",
    "sorted_movie['movies'].head()"
   ]
  },
  {
   "cell_type": "markdown",
   "id": "59c33c1b",
   "metadata": {
    "id": "59c33c1b"
   },
   "source": [
    "###### The top 5 most rated movies are\n",
    "1. Bojack Horseman\n",
    "2. Avatar: The Last Airbender\n",
    "3. Avatar: The Last Airbender\n",
    "4. Dexter\n",
    "5. Dark"
   ]
  },
  {
   "cell_type": "code",
   "execution_count": 14,
   "id": "ec97a906",
   "metadata": {
    "id": "ec97a906"
   },
   "outputs": [
    {
     "data": {
      "text/html": [
       "<div>\n",
       "<style scoped>\n",
       "    .dataframe tbody tr th:only-of-type {\n",
       "        vertical-align: middle;\n",
       "    }\n",
       "\n",
       "    .dataframe tbody tr th {\n",
       "        vertical-align: top;\n",
       "    }\n",
       "\n",
       "    .dataframe thead th {\n",
       "        text-align: right;\n",
       "    }\n",
       "</style>\n",
       "<table border=\"1\" class=\"dataframe\">\n",
       "  <thead>\n",
       "    <tr style=\"text-align: right;\">\n",
       "      <th></th>\n",
       "      <th>movies</th>\n",
       "      <th>year</th>\n",
       "      <th>genre</th>\n",
       "      <th>rating</th>\n",
       "      <th>one-line</th>\n",
       "      <th>stars</th>\n",
       "      <th>votes</th>\n",
       "      <th>runtime</th>\n",
       "      <th>gross</th>\n",
       "      <th>genres</th>\n",
       "    </tr>\n",
       "  </thead>\n",
       "  <tbody>\n",
       "    <tr>\n",
       "      <th>0</th>\n",
       "      <td>Blood Red Sky</td>\n",
       "      <td>2021</td>\n",
       "      <td>Action, Horror, Thriller</td>\n",
       "      <td>6.1</td>\n",
       "      <td>A woman with a mysterious illness is forced in...</td>\n",
       "      <td>Director:Peter Thorwarth|     Stars:Peri B...</td>\n",
       "      <td>21062</td>\n",
       "      <td>121.0</td>\n",
       "      <td>0.0</td>\n",
       "      <td>Action</td>\n",
       "    </tr>\n",
       "    <tr>\n",
       "      <th>1</th>\n",
       "      <td>Masters of the Universe: Revelation</td>\n",
       "      <td>2021</td>\n",
       "      <td>Animation, Action, Adventure</td>\n",
       "      <td>5.0</td>\n",
       "      <td>The war for Eternia begins again in what may b...</td>\n",
       "      <td>Stars:Chris Wood, Sarah Michel...</td>\n",
       "      <td>17870</td>\n",
       "      <td>25.0</td>\n",
       "      <td>0.0</td>\n",
       "      <td>Animation</td>\n",
       "    </tr>\n",
       "    <tr>\n",
       "      <th>2</th>\n",
       "      <td>The Walking Dead</td>\n",
       "      <td>2010–2022</td>\n",
       "      <td>Drama, Horror, Thriller</td>\n",
       "      <td>8.2</td>\n",
       "      <td>Sheriff Deputy Rick Grimes wakes up from a com...</td>\n",
       "      <td>Stars:Andrew Lincoln, Norman R...</td>\n",
       "      <td>885805</td>\n",
       "      <td>44.0</td>\n",
       "      <td>0.0</td>\n",
       "      <td>Drama</td>\n",
       "    </tr>\n",
       "    <tr>\n",
       "      <th>3</th>\n",
       "      <td>Rick and Morty</td>\n",
       "      <td>2013</td>\n",
       "      <td>Animation, Adventure, Comedy</td>\n",
       "      <td>9.2</td>\n",
       "      <td>An animated series that follows the exploits o...</td>\n",
       "      <td>Stars:Justin Roiland, Chris Pa...</td>\n",
       "      <td>414849</td>\n",
       "      <td>23.0</td>\n",
       "      <td>0.0</td>\n",
       "      <td>Animation</td>\n",
       "    </tr>\n",
       "    <tr>\n",
       "      <th>4</th>\n",
       "      <td>Army of Thieves</td>\n",
       "      <td>2021</td>\n",
       "      <td>Action, Crime, Horror</td>\n",
       "      <td>0.0</td>\n",
       "      <td>A prequel, set before the events of Army of th...</td>\n",
       "      <td>Director:Matthias Schweighöfer|     Stars:...</td>\n",
       "      <td>0</td>\n",
       "      <td>NaN</td>\n",
       "      <td>0.0</td>\n",
       "      <td>Action</td>\n",
       "    </tr>\n",
       "    <tr>\n",
       "      <th>...</th>\n",
       "      <td>...</td>\n",
       "      <td>...</td>\n",
       "      <td>...</td>\n",
       "      <td>...</td>\n",
       "      <td>...</td>\n",
       "      <td>...</td>\n",
       "      <td>...</td>\n",
       "      <td>...</td>\n",
       "      <td>...</td>\n",
       "      <td>...</td>\n",
       "    </tr>\n",
       "    <tr>\n",
       "      <th>9993</th>\n",
       "      <td>Totenfrau</td>\n",
       "      <td>2022</td>\n",
       "      <td>Drama, Thriller</td>\n",
       "      <td>0.0</td>\n",
       "      <td>Add a Plot</td>\n",
       "      <td>Director:Nicolai Rohde|     Stars:Felix Kl...</td>\n",
       "      <td>0</td>\n",
       "      <td>NaN</td>\n",
       "      <td>0.0</td>\n",
       "      <td>Drama</td>\n",
       "    </tr>\n",
       "    <tr>\n",
       "      <th>9995</th>\n",
       "      <td>Arcane</td>\n",
       "      <td>2021</td>\n",
       "      <td>Animation, Action, Adventure</td>\n",
       "      <td>0.0</td>\n",
       "      <td>Add a Plot</td>\n",
       "      <td></td>\n",
       "      <td>0</td>\n",
       "      <td>NaN</td>\n",
       "      <td>0.0</td>\n",
       "      <td>Animation</td>\n",
       "    </tr>\n",
       "    <tr>\n",
       "      <th>9996</th>\n",
       "      <td>Heart of Invictus</td>\n",
       "      <td>2022</td>\n",
       "      <td>Documentary, Sport</td>\n",
       "      <td>0.0</td>\n",
       "      <td>Add a Plot</td>\n",
       "      <td>Director:Orlando von Einsiedel|     Star:P...</td>\n",
       "      <td>0</td>\n",
       "      <td>NaN</td>\n",
       "      <td>0.0</td>\n",
       "      <td>Documentary</td>\n",
       "    </tr>\n",
       "    <tr>\n",
       "      <th>9997</th>\n",
       "      <td>The Imperfects</td>\n",
       "      <td>2021</td>\n",
       "      <td>Adventure, Drama, Fantasy</td>\n",
       "      <td>0.0</td>\n",
       "      <td>Add a Plot</td>\n",
       "      <td>Director:Jovanka Vuckovic|     Stars:Morga...</td>\n",
       "      <td>0</td>\n",
       "      <td>NaN</td>\n",
       "      <td>0.0</td>\n",
       "      <td>Adventure</td>\n",
       "    </tr>\n",
       "    <tr>\n",
       "      <th>9998</th>\n",
       "      <td>The Imperfects</td>\n",
       "      <td>2021</td>\n",
       "      <td>Adventure, Drama, Fantasy</td>\n",
       "      <td>0.0</td>\n",
       "      <td>Add a Plot</td>\n",
       "      <td>Director:Jovanka Vuckovic|     Stars:Morga...</td>\n",
       "      <td>0</td>\n",
       "      <td>NaN</td>\n",
       "      <td>0.0</td>\n",
       "      <td>Adventure</td>\n",
       "    </tr>\n",
       "  </tbody>\n",
       "</table>\n",
       "<p>9568 rows × 10 columns</p>\n",
       "</div>"
      ],
      "text/plain": [
       "                                   movies       year  \\\n",
       "0                           Blood Red Sky       2021   \n",
       "1     Masters of the Universe: Revelation       2021   \n",
       "2                        The Walking Dead  2010–2022   \n",
       "3                          Rick and Morty       2013   \n",
       "4                         Army of Thieves       2021   \n",
       "...                                   ...        ...   \n",
       "9993                            Totenfrau       2022   \n",
       "9995                               Arcane       2021   \n",
       "9996                    Heart of Invictus       2022   \n",
       "9997                       The Imperfects       2021   \n",
       "9998                       The Imperfects       2021   \n",
       "\n",
       "                                         genre  rating  \\\n",
       "0         Action, Horror, Thriller                 6.1   \n",
       "1     Animation, Action, Adventure                 5.0   \n",
       "2          Drama, Horror, Thriller                 8.2   \n",
       "3     Animation, Adventure, Comedy                 9.2   \n",
       "4            Action, Crime, Horror                 0.0   \n",
       "...                                        ...     ...   \n",
       "9993               Drama, Thriller                 0.0   \n",
       "9995  Animation, Action, Adventure                 0.0   \n",
       "9996            Documentary, Sport                 0.0   \n",
       "9997     Adventure, Drama, Fantasy                 0.0   \n",
       "9998     Adventure, Drama, Fantasy                 0.0   \n",
       "\n",
       "                                               one-line  \\\n",
       "0     A woman with a mysterious illness is forced in...   \n",
       "1     The war for Eternia begins again in what may b...   \n",
       "2     Sheriff Deputy Rick Grimes wakes up from a com...   \n",
       "3     An animated series that follows the exploits o...   \n",
       "4     A prequel, set before the events of Army of th...   \n",
       "...                                                 ...   \n",
       "9993                                         Add a Plot   \n",
       "9995                                         Add a Plot   \n",
       "9996                                         Add a Plot   \n",
       "9997                                         Add a Plot   \n",
       "9998                                         Add a Plot   \n",
       "\n",
       "                                                  stars   votes  runtime  \\\n",
       "0         Director:Peter Thorwarth|     Stars:Peri B...   21062    121.0   \n",
       "1                     Stars:Chris Wood, Sarah Michel...   17870     25.0   \n",
       "2                     Stars:Andrew Lincoln, Norman R...  885805     44.0   \n",
       "3                     Stars:Justin Roiland, Chris Pa...  414849     23.0   \n",
       "4         Director:Matthias Schweighöfer|     Stars:...       0      NaN   \n",
       "...                                                 ...     ...      ...   \n",
       "9993      Director:Nicolai Rohde|     Stars:Felix Kl...       0      NaN   \n",
       "9995                                                          0      NaN   \n",
       "9996      Director:Orlando von Einsiedel|     Star:P...       0      NaN   \n",
       "9997      Director:Jovanka Vuckovic|     Stars:Morga...       0      NaN   \n",
       "9998      Director:Jovanka Vuckovic|     Stars:Morga...       0      NaN   \n",
       "\n",
       "      gross       genres  \n",
       "0       0.0       Action  \n",
       "1       0.0    Animation  \n",
       "2       0.0        Drama  \n",
       "3       0.0    Animation  \n",
       "4       0.0       Action  \n",
       "...     ...          ...  \n",
       "9993    0.0        Drama  \n",
       "9995    0.0    Animation  \n",
       "9996    0.0  Documentary  \n",
       "9997    0.0    Adventure  \n",
       "9998    0.0    Adventure  \n",
       "\n",
       "[9568 rows x 10 columns]"
      ]
     },
     "execution_count": 14,
     "metadata": {},
     "output_type": "execute_result"
    }
   ],
   "source": [
    "#split the genre column to get the first entry\n",
    "movie['genres'] = movie['genre'].str.split(',').str[0]\n",
    "movie"
   ]
  },
  {
   "cell_type": "code",
   "execution_count": 15,
   "id": "f89bb962",
   "metadata": {
    "id": "f89bb962"
   },
   "outputs": [
    {
     "data": {
      "text/html": [
       "<div>\n",
       "<style scoped>\n",
       "    .dataframe tbody tr th:only-of-type {\n",
       "        vertical-align: middle;\n",
       "    }\n",
       "\n",
       "    .dataframe tbody tr th {\n",
       "        vertical-align: top;\n",
       "    }\n",
       "\n",
       "    .dataframe thead th {\n",
       "        text-align: right;\n",
       "    }\n",
       "</style>\n",
       "<table border=\"1\" class=\"dataframe\">\n",
       "  <thead>\n",
       "    <tr style=\"text-align: right;\">\n",
       "      <th></th>\n",
       "      <th>movies</th>\n",
       "      <th>rating</th>\n",
       "      <th>genres</th>\n",
       "    </tr>\n",
       "  </thead>\n",
       "  <tbody>\n",
       "    <tr>\n",
       "      <th>1166</th>\n",
       "      <td>Raketsonyeondan</td>\n",
       "      <td>1.1</td>\n",
       "      <td>Comedy</td>\n",
       "    </tr>\n",
       "    <tr>\n",
       "      <th>5365</th>\n",
       "      <td>Defcon 2012</td>\n",
       "      <td>1.8</td>\n",
       "      <td>Sci-Fi</td>\n",
       "    </tr>\n",
       "    <tr>\n",
       "      <th>4332</th>\n",
       "      <td>Way of the Vampire</td>\n",
       "      <td>2.0</td>\n",
       "      <td>Action</td>\n",
       "    </tr>\n",
       "    <tr>\n",
       "      <th>5037</th>\n",
       "      <td>Hajwala</td>\n",
       "      <td>2.1</td>\n",
       "      <td>Action</td>\n",
       "    </tr>\n",
       "    <tr>\n",
       "      <th>3528</th>\n",
       "      <td>Sinister Squad</td>\n",
       "      <td>2.1</td>\n",
       "      <td>Action</td>\n",
       "    </tr>\n",
       "  </tbody>\n",
       "</table>\n",
       "</div>"
      ],
      "text/plain": [
       "                  movies  rating              genres\n",
       "1166     Raketsonyeondan     1.1              Comedy\n",
       "5365         Defcon 2012     1.8  Sci-Fi            \n",
       "4332  Way of the Vampire     2.0              Action\n",
       "5037             Hajwala     2.1              Action\n",
       "3528      Sinister Squad     2.1              Action"
      ]
     },
     "execution_count": 15,
     "metadata": {},
     "output_type": "execute_result"
    }
   ],
   "source": [
    "#dropping the null rows in the rating column\n",
    "movies_without_rating_nulls = movie.dropna(subset=['rating'])\n",
    "\n",
    "# Dropping rows with rating equal to 0\n",
    "movies_without_zero_rating = movies_without_rating_nulls[movies_without_rating_nulls['rating'] != 0]\n",
    "\n",
    "# 10 least rated movies\n",
    "movies_without_zero_rating.sort_values(by='rating', ascending=True)[[\"movies\",\"rating\",\"genres\"]].head(5)"
   ]
  },
  {
   "cell_type": "markdown",
   "id": "63b1ea69",
   "metadata": {
    "id": "63b1ea69"
   },
   "source": [
    "###### The least rated movies are\n",
    "1. Raketsonyeondan\n",
    "2. Defcon 2012\n",
    "3. Way of the Vampire\n",
    "4. Hajwala\n",
    "5. Sinister Squad"
   ]
  },
  {
   "cell_type": "code",
   "execution_count": 16,
   "id": "22cd6ca3",
   "metadata": {
    "id": "22cd6ca3"
   },
   "outputs": [
    {
     "data": {
      "image/png": "[encoded data removed]",
      "text/plain": [
       "<Figure size 640x480 with 1 Axes>"
      ]
     },
     "metadata": {},
     "output_type": "display_data"
    }
   ],
   "source": [
    "#aggregate the genre column by sum and plot the graph\n",
    "toprated_movie = movie.groupby('genres').agg({'votes':'sum'})\n",
    "toprated_movie_sort = toprated_movie.sort_values(by = 'votes',ascending = False).head()\n",
    "toprated_movie_sort.plot(kind = 'bar', title = 'Top 5 Voted Genre',fontsize = 14)\n",
    "plt.show()"
   ]
  },
  {
   "cell_type": "markdown",
   "id": "381ec9c5",
   "metadata": {},
   "source": [
    "Based on the visualization, we noted the following genres with the highest vote aggregates:\n",
    "\n",
    "1. Action movies\n",
    "2. Crime and Drama genres share an equal vote aggregate\n",
    "3. Comedy\n",
    "4. Animation"
   ]
  },
  {
   "cell_type": "code",
   "execution_count": 17,
   "id": "c76eb5c1",
   "metadata": {
    "id": "c76eb5c1"
   },
   "outputs": [
    {
     "data": {
      "image/png": "[encoded data removed]",
      "text/plain": [
       "<Figure size 640x480 with 1 Axes>"
      ]
     },
     "metadata": {},
     "output_type": "display_data"
    }
   ],
   "source": [
    "#Top 5 grossing movie\n",
    "sorted_movies = movie.sort_values(\"gross\",ascending=False)[[\"movies\",\"gross\"]].head(5)\n",
    "sorted_movies.plot(x = 'movies', kind = 'bar', title = 'Top 5 Grossed movies', rot = 80, colormap = 'RdBu_r',fontsize = 13)\n",
    "plt.ylim((300,550))\n",
    "plt.show()"
   ]
  },
  {
   "cell_type": "markdown",
   "id": "085b6d76",
   "metadata": {},
   "source": [
    "The bar chart above reveals the top five highest-grossing movies:\n",
    "\n",
    "1. Beauty and the Beast\n",
    "2. Finding Dory\n",
    "3. Captain America: Civil War\n",
    "4. Jumanji: Welcome to the Jungle\n",
    "5. Spider-Man"
   ]
  },
  {
   "cell_type": "code",
   "execution_count": 18,
   "id": "c312a05a",
   "metadata": {
    "id": "c312a05a"
   },
   "outputs": [
    {
     "data": {
      "text/html": [
       "<div>\n",
       "<style scoped>\n",
       "    .dataframe tbody tr th:only-of-type {\n",
       "        vertical-align: middle;\n",
       "    }\n",
       "\n",
       "    .dataframe tbody tr th {\n",
       "        vertical-align: top;\n",
       "    }\n",
       "\n",
       "    .dataframe thead th {\n",
       "        text-align: right;\n",
       "    }\n",
       "</style>\n",
       "<table border=\"1\" class=\"dataframe\">\n",
       "  <thead>\n",
       "    <tr style=\"text-align: right;\">\n",
       "      <th></th>\n",
       "      <th>movies</th>\n",
       "      <th>year</th>\n",
       "      <th>rating</th>\n",
       "    </tr>\n",
       "  </thead>\n",
       "  <tbody>\n",
       "    <tr>\n",
       "      <th>8541</th>\n",
       "      <td>The Midnight Gospel</td>\n",
       "      <td>2020</td>\n",
       "      <td>9.7</td>\n",
       "    </tr>\n",
       "    <tr>\n",
       "      <th>9080</th>\n",
       "      <td>Paranormal</td>\n",
       "      <td>2020</td>\n",
       "      <td>9.5</td>\n",
       "    </tr>\n",
       "    <tr>\n",
       "      <th>7421</th>\n",
       "      <td>Julie and the Phantoms</td>\n",
       "      <td>2020</td>\n",
       "      <td>9.4</td>\n",
       "    </tr>\n",
       "    <tr>\n",
       "      <th>7422</th>\n",
       "      <td>Julie and the Phantoms</td>\n",
       "      <td>2020</td>\n",
       "      <td>9.4</td>\n",
       "    </tr>\n",
       "    <tr>\n",
       "      <th>8932</th>\n",
       "      <td>Glitch Techs</td>\n",
       "      <td>2020</td>\n",
       "      <td>9.4</td>\n",
       "    </tr>\n",
       "    <tr>\n",
       "      <th>8959</th>\n",
       "      <td>The Queen's Gambit</td>\n",
       "      <td>2020</td>\n",
       "      <td>9.3</td>\n",
       "    </tr>\n",
       "    <tr>\n",
       "      <th>8933</th>\n",
       "      <td>Glitch Techs</td>\n",
       "      <td>2020</td>\n",
       "      <td>9.3</td>\n",
       "    </tr>\n",
       "    <tr>\n",
       "      <th>9079</th>\n",
       "      <td>Paranormal</td>\n",
       "      <td>2020</td>\n",
       "      <td>9.2</td>\n",
       "    </tr>\n",
       "    <tr>\n",
       "      <th>8930</th>\n",
       "      <td>Glitch Techs</td>\n",
       "      <td>2020</td>\n",
       "      <td>9.2</td>\n",
       "    </tr>\n",
       "    <tr>\n",
       "      <th>8538</th>\n",
       "      <td>The Midnight Gospel</td>\n",
       "      <td>2020</td>\n",
       "      <td>9.2</td>\n",
       "    </tr>\n",
       "  </tbody>\n",
       "</table>\n",
       "</div>"
      ],
      "text/plain": [
       "                       movies  year  rating\n",
       "8541      The Midnight Gospel  2020     9.7\n",
       "9080               Paranormal  2020     9.5\n",
       "7421   Julie and the Phantoms  2020     9.4\n",
       "7422   Julie and the Phantoms  2020     9.4\n",
       "8932             Glitch Techs  2020     9.4\n",
       "8959       The Queen's Gambit  2020     9.3\n",
       "8933             Glitch Techs  2020     9.3\n",
       "9079               Paranormal  2020     9.2\n",
       "8930             Glitch Techs  2020     9.2\n",
       "8538      The Midnight Gospel  2020     9.2"
      ]
     },
     "execution_count": 18,
     "metadata": {},
     "output_type": "execute_result"
    }
   ],
   "source": [
    "#Most rated movies in 2020\n",
    "specific_year_data = movie[movie['year'] == \"2020\"].sort_values(by='rating', ascending=False)[[\"movies\",\"year\",\"rating\"]].head(10)\n",
    "specific_year_data"
   ]
  },
  {
   "cell_type": "code",
   "execution_count": 19,
   "id": "3633ef03",
   "metadata": {
    "id": "3633ef03",
    "scrolled": true
   },
   "outputs": [
    {
     "data": {
      "image/png": "[encoded data removed]",
      "text/plain": [
       "<Figure size 640x480 with 1 Axes>"
      ]
     },
     "metadata": {},
     "output_type": "display_data"
    }
   ],
   "source": [
    "#plot a graph to display the most rated movies in 2020\n",
    "specific_year_data.plot(x = 'movies', kind = 'bar', title = 'Most Rated movies in 2020', rot = 82, colormap = 'PRGn', fontsize = 13)\n",
    "plt.ylim((9,10))\n",
    "plt.show()"
   ]
  },
  {
   "cell_type": "markdown",
   "id": "9f1b5245",
   "metadata": {},
   "source": [
    "According to our analysis, the most rated Netflix movies in 2020, listed from highest to lowest, are:\n",
    "\n",
    "1. The Midnight Gospel\n",
    "2. Paranormal\n",
    "3. Julie and the Phantoms\n",
    "4. Glitch Techs\n",
    "5. The Queen's Gambit"
   ]
  },
  {
   "cell_type": "code",
   "execution_count": 20,
   "id": "95c700f6",
   "metadata": {
    "id": "95c700f6"
   },
   "outputs": [
    {
     "data": {
      "text/html": [
       "<div>\n",
       "<style scoped>\n",
       "    .dataframe tbody tr th:only-of-type {\n",
       "        vertical-align: middle;\n",
       "    }\n",
       "\n",
       "    .dataframe tbody tr th {\n",
       "        vertical-align: top;\n",
       "    }\n",
       "\n",
       "    .dataframe thead th {\n",
       "        text-align: right;\n",
       "    }\n",
       "</style>\n",
       "<table border=\"1\" class=\"dataframe\">\n",
       "  <thead>\n",
       "    <tr style=\"text-align: right;\">\n",
       "      <th></th>\n",
       "      <th>movies</th>\n",
       "      <th>votes</th>\n",
       "    </tr>\n",
       "  </thead>\n",
       "  <tbody>\n",
       "    <tr>\n",
       "      <th>111</th>\n",
       "      <td>The Lord of the Rings: The Fellowship of the Ring</td>\n",
       "      <td>1713028</td>\n",
       "    </tr>\n",
       "    <tr>\n",
       "      <th>193</th>\n",
       "      <td>The Lord of the Rings: The Return of the King</td>\n",
       "      <td>1691777</td>\n",
       "    </tr>\n",
       "    <tr>\n",
       "      <th>16</th>\n",
       "      <td>Breaking Bad</td>\n",
       "      <td>1552311</td>\n",
       "    </tr>\n",
       "    <tr>\n",
       "      <th>260</th>\n",
       "      <td>The Lord of the Rings: The Two Towers</td>\n",
       "      <td>1529752</td>\n",
       "    </tr>\n",
       "    <tr>\n",
       "      <th>132</th>\n",
       "      <td>The Departed</td>\n",
       "      <td>1227522</td>\n",
       "    </tr>\n",
       "  </tbody>\n",
       "</table>\n",
       "</div>"
      ],
      "text/plain": [
       "                                                movies    votes\n",
       "111  The Lord of the Rings: The Fellowship of the Ring  1713028\n",
       "193      The Lord of the Rings: The Return of the King  1691777\n",
       "16                                        Breaking Bad  1552311\n",
       "260              The Lord of the Rings: The Two Towers  1529752\n",
       "132                                       The Departed  1227522"
      ]
     },
     "execution_count": 20,
     "metadata": {},
     "output_type": "execute_result"
    }
   ],
   "source": [
    "#Top 5 movies with highest votes\n",
    "sorted_votes = movie.sort_values(\"votes\",ascending=False)[[\"movies\",\"votes\"]].head(5)\n",
    "sorted_votes"
   ]
  },
  {
   "cell_type": "code",
   "execution_count": 21,
   "id": "5890971f",
   "metadata": {
    "id": "5890971f"
   },
   "outputs": [
    {
     "data": {
      "image/png": "[encoded data removed]",
      "text/plain": [
       "<Figure size 640x480 with 1 Axes>"
      ]
     },
     "metadata": {},
     "output_type": "display_data"
    }
   ],
   "source": [
    "#plot a graph to display the most voted movies in 2020\n",
    "sorted_votes.plot(x = 'movies', kind = 'line', title = 'Most Voted movies', rot = 82, colormap = 'PRGn', fontsize = 14)\n",
    "plt.ylim((1000000,2000000))\n",
    "plt.show()"
   ]
  },
  {
   "cell_type": "markdown",
   "id": "1b11bbf4",
   "metadata": {
    "id": "1b11bbf4"
   },
   "source": [
    "### 5. Conclusion"
   ]
  },
  {
   "cell_type": "markdown",
   "id": "3b525b8b",
   "metadata": {
    "id": "3b525b8b"
   },
   "source": [
    "So far, the analysis has enabled us to get insights to the dataset and answer the questions we highlighted. This project covers various methods of data cleaning and analysis to reach our goal.\n",
    "\n",
    "The process we took involved\n",
    "- Getting the data\n",
    "- Exploring the data\n",
    "- Cleaning the data\n",
    "- Analysing the data to get insight\n",
    "\n",
    "There is room for further insights to be drawn from the dataset. The dataset can also be used for movie recommendation."
   ]
  }
 ],
 "metadata": {
  "colab": {
   "provenance": [],
   "toc_visible": true
  },
  "kernelspec": {
   "display_name": "Python 3 (ipykernel)",
   "language": "python",
   "name": "python3"
  },
  "language_info": {
   "codemirror_mode": {
    "name": "ipython",
    "version": 3
   },
   "file_extension": ".py",
   "mimetype": "text/x-python",
   "name": "python",
   "nbconvert_exporter": "python",
   "pygments_lexer": "ipython3",
   "version": "3.11.5"
  }
 },
 "nbformat": 4,
 "nbformat_minor": 5
}
